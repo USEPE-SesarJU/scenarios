{
 "cells": [
  {
   "cell_type": "markdown",
   "id": "fd7b56f6",
   "metadata": {},
   "source": [
    "# This notebook creates the flight plans for a set of OD pairs stored in a csv file\n",
    "The .csv file must contain the following fields for each drone:\n",
    " - Origin\n",
    " - Destination\n",
    " - Departure time\n",
    " - Type of drone\n",
    " \n",
    "The notebook will provide scenario files for each drone.\n",
    "\n",
    "TODO: include strategic deconfliction"
   ]
  },
  {
   "cell_type": "code",
   "execution_count": 1,
   "id": "38e8f28a",
   "metadata": {},
   "outputs": [],
   "source": [
    "\"\"\"\n",
    "We define a default path where the modules developed in USEPE are stored\n",
    "\"\"\"\n",
    "\n",
    "default_path = r\"C:\\workspace3\\bluesky\"\n",
    "\n",
    "\"\"\"\n",
    "We define a second default path where the scenarios are stored\n",
    "\"\"\"\n",
    "\n",
    "default_path2 = r\"C:\\workspace3\\scenarios-exercise1\\scenario\\USEPE\\exercise_1\"\n"
   ]
  },
  {
   "cell_type": "code",
   "execution_count": 2,
   "id": "9fde8ff6",
   "metadata": {},
   "outputs": [
    {
     "name": "stderr",
     "output_type": "stream",
     "text": [
      "c:\\workspace3\\python3_env\\lib\\site-packages\\geopandas\\_compat.py:106: UserWarning: The Shapely GEOS version (3.8.1-CAPI-1.13.3) is incompatible with the GEOS version PyGEOS was compiled with (3.9.1-CAPI-1.14.2). Conversions between both will be slow.\n",
      "  warnings.warn(\n"
     ]
    }
   ],
   "source": [
    "import os\n",
    "import sys\n",
    "import configparser\n",
    "import pickle\n",
    "\n",
    "os.chdir(default_path)\n",
    "from usepe.city_model.multi_di_graph_3D import MultiDiGrpah3D\n",
    "from usepe.city_model.utils import read_my_graphml\n",
    "from usepe.city_model.city_graph import cityGraph\n",
    "from usepe.city_model.scenario_definition import createFlightPlansFromCSV"
   ]
  },
  {
   "cell_type": "markdown",
   "id": "1120f5b0",
   "metadata": {},
   "source": [
    "Configuration file¶\n",
    "\n",
    "We create a config file with the following fields:\n",
    "\n",
    "[City]\n",
    "\n",
    "mode = rectangle\n",
    "\n",
    "#hannover_lat = 52.376\n",
    "\n",
    "#hannover_lon = 9.76\n",
    "\n",
    "#zone_size = 1000\n",
    "\n",
    "hannover_lat_min = 52.297839999994714\n",
    "\n",
    "hannover_lat_max = 52.438260000005286\n",
    "\n",
    "hannover_lon_min = 9.643080000001035\n",
    "\n",
    "hannover_lon_max = 9.844349999998968\n",
    "\n",
    "import = True\n",
    "\n",
    "imported_graph_path = ./data/exercise_1_reference.graphml\n",
    "\n",
    "[Layers]\n",
    "number_of_layers = 9\n",
    "\n",
    "layer_width = 25\n",
    "\n",
    "[BuildingData]\n",
    "\n",
    "lat_min = 52.297839999994714\n",
    "\n",
    "lat_max = 52.438260000005286\n",
    "\n",
    "lon_min = 9.643080000001035\n",
    "\n",
    "lon_max = 9.844349999998968\n",
    "\n",
    "divisions = 20\n",
    "\n",
    "directory_hannover = C:\\workspace3\\bluesky_usepe_git\\usepe\\city_model\\data\\CityGML_LoD1\n",
    "\n",
    "[Options]\n",
    "\n",
    "one_way = False\n",
    "\n",
    "simplify = True\n",
    "\n",
    "simplification_distance = 0\n",
    "\n",
    "simplification_error = 2\n",
    "\n",
    "[Outputs]\n",
    "\n",
    "graph_path = ./data/exercise_1_reference.graphml\n",
    "\n",
    "[Segments]\n",
    "\n",
    "import = True\n",
    "\n",
    "path = ./data/reference_segments.pkl\n",
    "\n",
    "[Corridors]\n",
    "\n",
    "corridors =\n",
    "\n",
    "altitude = 250\n",
    "\n",
    "delta_z = 25\n",
    "\n",
    "speed = 50\n",
    "\n",
    "acceleration_length = 50\n",
    "\n",
    "file_path_corridors = ./data/usepe-hannover-corridors.geojson\n",
    "\n",
    "[Strategic_Deconfliction]\n",
    "\n",
    "ratio = 3\n",
    "\n",
    "delay = 60"
   ]
  },
  {
   "cell_type": "code",
   "execution_count": 3,
   "id": "7e70872f",
   "metadata": {},
   "outputs": [
    {
     "data": {
      "text/plain": [
       "['C:\\\\workspace3\\\\scenarios-exercise1\\\\scenario\\\\USEPE\\\\exercise_1\\\\settings_exercise_1_reference.cfg']"
      ]
     },
     "execution_count": 3,
     "metadata": {},
     "output_type": "execute_result"
    }
   ],
   "source": [
    "# -------------- 1. CONFIGURATION FILE -----------------\n",
    "\"\"\"\n",
    "This section reads the configuration file.\n",
    "Change the config_path to read the desired file\n",
    "\"\"\"\n",
    "# CONFIG\n",
    "config_path = default_path2 + r\"\\settings_exercise_1_reference.cfg\"\n",
    "config = configparser.ConfigParser()\n",
    "config.read( config_path )"
   ]
  },
  {
   "cell_type": "markdown",
   "id": "1cd42e03",
   "metadata": {},
   "source": [
    "# Import the graph"
   ]
  },
  {
   "cell_type": "code",
   "execution_count": 4,
   "id": "a639bb28",
   "metadata": {},
   "outputs": [
    {
     "name": "stdout",
     "output_type": "stream",
     "text": [
      "Reading the graph...\n"
     ]
    }
   ],
   "source": [
    "# -------------- 2. CITY GRAPH -------------------------\n",
    "\"\"\"\n",
    "This section creates a city graph or loads the graph defined with the city section of the\n",
    "configuration file.\n",
    "\"\"\"\n",
    "# City\n",
    "os.chdir(default_path2)\n",
    "if config['City'].getboolean( 'import' ):\n",
    "    filepath = config['City']['imported_graph_path']\n",
    "    G = read_my_graphml( filepath )\n",
    "    G = MultiDiGrpah3D( G )\n",
    "    # fig, ax = ox.plot_graph( G )\n",
    "else:\n",
    "    print('Check the path to the graph file')\n",
    "    G = cityGraph( config )"
   ]
  },
  {
   "cell_type": "markdown",
   "id": "07a8f642",
   "metadata": {},
   "source": [
    "# Import the segments"
   ]
  },
  {
   "cell_type": "code",
   "execution_count": 5,
   "id": "a3a53997",
   "metadata": {},
   "outputs": [],
   "source": [
    "# -------------- 3. SEGMENTS ----------------------------\n",
    "\"\"\"\n",
    "This section creates a airspace segmentation or loads the segmentation defined with the segment\n",
    "section of the configuration file.\n",
    "Comment it to neglect the segmentation\n",
    "\"\"\"\n",
    "os.chdir(default_path2)\n",
    "if config['Segments'].getboolean( 'import' ):\n",
    "    path = config['Segments']['path']\n",
    "    with open( path, 'rb' ) as f:\n",
    "        segments = pickle.load( f )\n",
    "else:\n",
    "    segments = None"
   ]
  },
  {
   "cell_type": "markdown",
   "id": "6f7db1e9",
   "metadata": {},
   "source": [
    "# Flight plan creation function"
   ]
  },
  {
   "cell_type": "markdown",
   "id": "882db9d3",
   "metadata": {},
   "source": [
    "# Determine the path to the csv and create the flight plans"
   ]
  },
  {
   "cell_type": "code",
   "execution_count": 6,
   "id": "2c316b8b",
   "metadata": {},
   "outputs": [
    {
     "name": "stdout",
     "output_type": "stream",
     "text": [
      "18\n",
      "Calculating the route...\n",
      "Calculating the route...\n",
      "Creating delivery flight plan of D1...\n",
      "18\n",
      "Calculating the route...\n",
      "Calculating the route...\n"
     ]
    },
    {
     "ename": "KeyboardInterrupt",
     "evalue": "",
     "output_type": "error",
     "traceback": [
      "\u001b[1;31m---------------------------------------------------------------------------\u001b[0m",
      "\u001b[1;31mKeyboardInterrupt\u001b[0m                         Traceback (most recent call last)",
      "\u001b[1;32m~\\AppData\\Local\\Temp/ipykernel_10308/1687438016.py\u001b[0m in \u001b[0;36m<module>\u001b[1;34m\u001b[0m\n\u001b[0;32m      4\u001b[0m \u001b[0mpath_csv\u001b[0m \u001b[1;33m=\u001b[0m \u001b[1;34m\"./data/delivery_1800-1800-1800_None-1000-None_7200.csv\"\u001b[0m  \u001b[1;31m# delivery\u001b[0m\u001b[1;33m\u001b[0m\u001b[1;33m\u001b[0m\u001b[0m\n\u001b[0;32m      5\u001b[0m \u001b[1;33m\u001b[0m\u001b[0m\n\u001b[1;32m----> 6\u001b[1;33m \u001b[0mcreateFlightPlansFromCSV\u001b[0m\u001b[1;33m(\u001b[0m\u001b[0mdefault_path\u001b[0m\u001b[1;33m,\u001b[0m \u001b[0mpath_csv\u001b[0m\u001b[1;33m,\u001b[0m \u001b[0mstrategic_deconfliction\u001b[0m\u001b[1;33m,\u001b[0m \u001b[0mG\u001b[0m\u001b[1;33m,\u001b[0m \u001b[0msegments\u001b[0m\u001b[1;33m,\u001b[0m \u001b[0mconfig\u001b[0m\u001b[1;33m)\u001b[0m\u001b[1;33m\u001b[0m\u001b[1;33m\u001b[0m\u001b[0m\n\u001b[0m",
      "\u001b[1;32mC:\\workspace3\\bluesky\\usepe\\city_model\\scenario_definition.py\u001b[0m in \u001b[0;36mcreateFlightPlansFromCSV\u001b[1;34m(default_path, path_csv, strategic_deconfliction, G, segments, config)\u001b[0m\n\u001b[0;32m   1426\u001b[0m                 \u001b[1;31m# Calculate optimum trajectories (origin-delivery and delivery-origin)\u001b[0m\u001b[1;33m\u001b[0m\u001b[1;33m\u001b[0m\u001b[1;33m\u001b[0m\u001b[0m\n\u001b[0;32m   1427\u001b[0m                 \u001b[0mtravel_time1\u001b[0m\u001b[1;33m,\u001b[0m \u001b[0mroute1\u001b[0m \u001b[1;33m=\u001b[0m \u001b[0mtrajectoryCalculation\u001b[0m\u001b[1;33m(\u001b[0m \u001b[0mG\u001b[0m\u001b[1;33m,\u001b[0m \u001b[0morig\u001b[0m\u001b[1;33m,\u001b[0m \u001b[0mdest\u001b[0m \u001b[1;33m)\u001b[0m\u001b[1;33m\u001b[0m\u001b[1;33m\u001b[0m\u001b[0m\n\u001b[1;32m-> 1428\u001b[1;33m                 \u001b[0mtravel_time2\u001b[0m\u001b[1;33m,\u001b[0m \u001b[0mroute2\u001b[0m \u001b[1;33m=\u001b[0m \u001b[0mtrajectoryCalculation\u001b[0m\u001b[1;33m(\u001b[0m \u001b[0mG\u001b[0m\u001b[1;33m,\u001b[0m \u001b[0mdest\u001b[0m\u001b[1;33m,\u001b[0m \u001b[0morig\u001b[0m \u001b[1;33m)\u001b[0m\u001b[1;33m\u001b[0m\u001b[1;33m\u001b[0m\u001b[0m\n\u001b[0m\u001b[0;32m   1429\u001b[0m                 \u001b[0mdeparture_time\u001b[0m \u001b[1;33m=\u001b[0m \u001b[0mrow\u001b[0m\u001b[1;33m[\u001b[0m\u001b[1;34m'departure'\u001b[0m\u001b[1;33m]\u001b[0m\u001b[1;33m\u001b[0m\u001b[1;33m\u001b[0m\u001b[0m\n\u001b[0;32m   1430\u001b[0m \u001b[1;33m\u001b[0m\u001b[0m\n",
      "\u001b[1;32mC:\\workspace3\\bluesky\\usepe\\city_model\\path_planning.py\u001b[0m in \u001b[0;36mtrajectoryCalculation\u001b[1;34m(G, orig, dest)\u001b[0m\n\u001b[0;32m     50\u001b[0m \u001b[1;33m\u001b[0m\u001b[0m\n\u001b[0;32m     51\u001b[0m     \u001b[1;31m# find the shortest path between nodes, minimizing travel time\u001b[0m\u001b[1;33m\u001b[0m\u001b[1;33m\u001b[0m\u001b[1;33m\u001b[0m\u001b[0m\n\u001b[1;32m---> 52\u001b[1;33m     weight, route = single_source_dijkstra( G, source=orig_node, target=dest_node,\n\u001b[0m\u001b[0;32m     53\u001b[0m                                             weight='travel_time' )\n\u001b[0;32m     54\u001b[0m     \u001b[1;32mreturn\u001b[0m \u001b[0mweight\u001b[0m\u001b[1;33m,\u001b[0m \u001b[0mroute\u001b[0m\u001b[1;33m\u001b[0m\u001b[1;33m\u001b[0m\u001b[0m\n",
      "\u001b[1;32mc:\\workspace3\\python3_env\\lib\\site-packages\\networkx\\algorithms\\shortest_paths\\weighted.py\u001b[0m in \u001b[0;36msingle_source_dijkstra\u001b[1;34m(G, source, target, cutoff, weight)\u001b[0m\n\u001b[0;32m    467\u001b[0m     \u001b[0msingle_source_bellman_ford\u001b[0m\u001b[1;33m\u001b[0m\u001b[1;33m\u001b[0m\u001b[0m\n\u001b[0;32m    468\u001b[0m     \"\"\"\n\u001b[1;32m--> 469\u001b[1;33m     return multi_source_dijkstra(\n\u001b[0m\u001b[0;32m    470\u001b[0m         \u001b[0mG\u001b[0m\u001b[1;33m,\u001b[0m \u001b[1;33m{\u001b[0m\u001b[0msource\u001b[0m\u001b[1;33m}\u001b[0m\u001b[1;33m,\u001b[0m \u001b[0mcutoff\u001b[0m\u001b[1;33m=\u001b[0m\u001b[0mcutoff\u001b[0m\u001b[1;33m,\u001b[0m \u001b[0mtarget\u001b[0m\u001b[1;33m=\u001b[0m\u001b[0mtarget\u001b[0m\u001b[1;33m,\u001b[0m \u001b[0mweight\u001b[0m\u001b[1;33m=\u001b[0m\u001b[0mweight\u001b[0m\u001b[1;33m\u001b[0m\u001b[1;33m\u001b[0m\u001b[0m\n\u001b[0;32m    471\u001b[0m     )\n",
      "\u001b[1;32mc:\\workspace3\\python3_env\\lib\\site-packages\\networkx\\algorithms\\shortest_paths\\weighted.py\u001b[0m in \u001b[0;36mmulti_source_dijkstra\u001b[1;34m(G, sources, target, cutoff, weight)\u001b[0m\n\u001b[0;32m    728\u001b[0m     \u001b[0mweight\u001b[0m \u001b[1;33m=\u001b[0m \u001b[0m_weight_function\u001b[0m\u001b[1;33m(\u001b[0m\u001b[0mG\u001b[0m\u001b[1;33m,\u001b[0m \u001b[0mweight\u001b[0m\u001b[1;33m)\u001b[0m\u001b[1;33m\u001b[0m\u001b[1;33m\u001b[0m\u001b[0m\n\u001b[0;32m    729\u001b[0m     \u001b[0mpaths\u001b[0m \u001b[1;33m=\u001b[0m \u001b[1;33m{\u001b[0m\u001b[0msource\u001b[0m\u001b[1;33m:\u001b[0m \u001b[1;33m[\u001b[0m\u001b[0msource\u001b[0m\u001b[1;33m]\u001b[0m \u001b[1;32mfor\u001b[0m \u001b[0msource\u001b[0m \u001b[1;32min\u001b[0m \u001b[0msources\u001b[0m\u001b[1;33m}\u001b[0m  \u001b[1;31m# dictionary of paths\u001b[0m\u001b[1;33m\u001b[0m\u001b[1;33m\u001b[0m\u001b[0m\n\u001b[1;32m--> 730\u001b[1;33m     dist = _dijkstra_multisource(\n\u001b[0m\u001b[0;32m    731\u001b[0m         \u001b[0mG\u001b[0m\u001b[1;33m,\u001b[0m \u001b[0msources\u001b[0m\u001b[1;33m,\u001b[0m \u001b[0mweight\u001b[0m\u001b[1;33m,\u001b[0m \u001b[0mpaths\u001b[0m\u001b[1;33m=\u001b[0m\u001b[0mpaths\u001b[0m\u001b[1;33m,\u001b[0m \u001b[0mcutoff\u001b[0m\u001b[1;33m=\u001b[0m\u001b[0mcutoff\u001b[0m\u001b[1;33m,\u001b[0m \u001b[0mtarget\u001b[0m\u001b[1;33m=\u001b[0m\u001b[0mtarget\u001b[0m\u001b[1;33m\u001b[0m\u001b[1;33m\u001b[0m\u001b[0m\n\u001b[0;32m    732\u001b[0m     )\n",
      "\u001b[1;32mc:\\workspace3\\python3_env\\lib\\site-packages\\networkx\\algorithms\\shortest_paths\\weighted.py\u001b[0m in \u001b[0;36m_dijkstra_multisource\u001b[1;34m(G, sources, weight, pred, paths, cutoff, target)\u001b[0m\n\u001b[0;32m    827\u001b[0m         \u001b[1;32mif\u001b[0m \u001b[0mv\u001b[0m \u001b[1;33m==\u001b[0m \u001b[0mtarget\u001b[0m\u001b[1;33m:\u001b[0m\u001b[1;33m\u001b[0m\u001b[1;33m\u001b[0m\u001b[0m\n\u001b[0;32m    828\u001b[0m             \u001b[1;32mbreak\u001b[0m\u001b[1;33m\u001b[0m\u001b[1;33m\u001b[0m\u001b[0m\n\u001b[1;32m--> 829\u001b[1;33m         \u001b[1;32mfor\u001b[0m \u001b[0mu\u001b[0m\u001b[1;33m,\u001b[0m \u001b[0me\u001b[0m \u001b[1;32min\u001b[0m \u001b[0mG_succ\u001b[0m\u001b[1;33m[\u001b[0m\u001b[0mv\u001b[0m\u001b[1;33m]\u001b[0m\u001b[1;33m.\u001b[0m\u001b[0mitems\u001b[0m\u001b[1;33m(\u001b[0m\u001b[1;33m)\u001b[0m\u001b[1;33m:\u001b[0m\u001b[1;33m\u001b[0m\u001b[1;33m\u001b[0m\u001b[0m\n\u001b[0m\u001b[0;32m    830\u001b[0m             \u001b[0mcost\u001b[0m \u001b[1;33m=\u001b[0m \u001b[0mweight\u001b[0m\u001b[1;33m(\u001b[0m\u001b[0mv\u001b[0m\u001b[1;33m,\u001b[0m \u001b[0mu\u001b[0m\u001b[1;33m,\u001b[0m \u001b[0me\u001b[0m\u001b[1;33m)\u001b[0m\u001b[1;33m\u001b[0m\u001b[1;33m\u001b[0m\u001b[0m\n\u001b[0;32m    831\u001b[0m             \u001b[1;32mif\u001b[0m \u001b[0mcost\u001b[0m \u001b[1;32mis\u001b[0m \u001b[1;32mNone\u001b[0m\u001b[1;33m:\u001b[0m\u001b[1;33m\u001b[0m\u001b[1;33m\u001b[0m\u001b[0m\n",
      "\u001b[1;31mKeyboardInterrupt\u001b[0m: "
     ]
    }
   ],
   "source": [
    "strategic_deconfliction = False\n",
    "\n",
    "#path_csv = \"./data/background_traffic_0-0964_544_7200.csv\"  # background\n",
    "path_csv = \"./data/delivery_1800-1800-1800_None-1000-None_7200.csv\"  # delivery\n",
    "\n",
    "createFlightPlansFromCSV(default_path, path_csv, strategic_deconfliction, G, segments, config)"
   ]
  },
  {
   "cell_type": "code",
   "execution_count": null,
   "id": "efe856b1",
   "metadata": {},
   "outputs": [],
   "source": []
  }
 ],
 "metadata": {
  "kernelspec": {
   "display_name": "Python 3 (ipykernel)",
   "language": "python",
   "name": "python3"
  },
  "language_info": {
   "codemirror_mode": {
    "name": "ipython",
    "version": 3
   },
   "file_extension": ".py",
   "mimetype": "text/x-python",
   "name": "python",
   "nbconvert_exporter": "python",
   "pygments_lexer": "ipython3",
   "version": "3.8.1"
  }
 },
 "nbformat": 4,
 "nbformat_minor": 5
}
