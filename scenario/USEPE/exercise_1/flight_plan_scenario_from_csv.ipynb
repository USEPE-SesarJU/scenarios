{
 "cells": [
  {
   "cell_type": "markdown",
   "id": "6c59c2a2",
   "metadata": {},
   "source": [
    "# This notebook creates the flight plans for a set of OD pairs stored in a csv file\n",
    "The .csv file must contain the following fields for each drone:\n",
    " - Origin\n",
    " - Destination\n",
    " - Departure time\n",
    " - Type of drone\n",
    " \n",
    "The notebook will provide scenario files for each drone.\n",
    "\n",
    "TODO: include strategic deconfliction"
   ]
  },
  {
   "cell_type": "code",
   "execution_count": 13,
   "id": "b44a1bea",
   "metadata": {},
   "outputs": [],
   "source": [
    "\"\"\"\n",
    "We define a default path where the modules developed in USEPE are stored\n",
    "\"\"\"\n",
    "\n",
    "default_path = r\"C:\\workspace3\\bluesky\"\n",
    "\n",
    "\"\"\"\n",
    "We define a second default path where the scenarios are stored\n",
    "\"\"\"\n",
    "\n",
    "default_path2 = r\"C:\\workspace3\\scenarios-exercise1\\scenario\\USEPE\\exercise_1\"\n"
   ]
  },
  {
   "cell_type": "code",
   "execution_count": 14,
   "id": "3b21c1a5",
   "metadata": {},
   "outputs": [
    {
     "ename": "ModuleNotFoundError",
     "evalue": "No module named 'usepe'",
     "output_type": "error",
     "traceback": [
      "\u001b[1;31m---------------------------------------------------------------------------\u001b[0m",
      "\u001b[1;31mModuleNotFoundError\u001b[0m                       Traceback (most recent call last)",
      "\u001b[1;32m~\\AppData\\Local\\Temp/ipykernel_19224/3510139272.py\u001b[0m in \u001b[0;36m<module>\u001b[1;34m\u001b[0m\n\u001b[0;32m      9\u001b[0m \u001b[1;33m\u001b[0m\u001b[0m\n\u001b[0;32m     10\u001b[0m \u001b[0mos\u001b[0m\u001b[1;33m.\u001b[0m\u001b[0mchdir\u001b[0m\u001b[1;33m(\u001b[0m\u001b[0mdefault_path\u001b[0m\u001b[1;33m)\u001b[0m\u001b[1;33m\u001b[0m\u001b[1;33m\u001b[0m\u001b[0m\n\u001b[1;32m---> 11\u001b[1;33m \u001b[1;32mfrom\u001b[0m \u001b[0musepe\u001b[0m\u001b[1;33m.\u001b[0m\u001b[0mcity_model\u001b[0m\u001b[1;33m.\u001b[0m\u001b[0mpath_planning\u001b[0m \u001b[1;32mimport\u001b[0m \u001b[0mtrajectoryCalculation\u001b[0m\u001b[1;33m\u001b[0m\u001b[1;33m\u001b[0m\u001b[0m\n\u001b[0m\u001b[0;32m     12\u001b[0m \u001b[1;32mfrom\u001b[0m \u001b[0musepe\u001b[0m\u001b[1;33m.\u001b[0m\u001b[0mcity_model\u001b[0m\u001b[1;33m.\u001b[0m\u001b[0mscenario_definition\u001b[0m \u001b[1;32mimport\u001b[0m \u001b[0mcreateFlightPlan\u001b[0m\u001b[1;33m\u001b[0m\u001b[1;33m\u001b[0m\u001b[0m\n\u001b[0;32m     13\u001b[0m \u001b[1;32mfrom\u001b[0m \u001b[0musepe\u001b[0m\u001b[1;33m.\u001b[0m\u001b[0mcity_model\u001b[0m\u001b[1;33m.\u001b[0m\u001b[0mmulti_di_graph_3D\u001b[0m \u001b[1;32mimport\u001b[0m \u001b[0mMultiDiGrpah3D\u001b[0m\u001b[1;33m\u001b[0m\u001b[1;33m\u001b[0m\u001b[0m\n",
      "\u001b[1;31mModuleNotFoundError\u001b[0m: No module named 'usepe'"
     ]
    }
   ],
   "source": [
    "import os\n",
    "import sys\n",
    "import configparser\n",
    "import pickle\n",
    "import osmnx as ox\n",
    "import random\n",
    "import pandas as pd\n",
    "import datetime\n",
    "\n",
    "os.chdir(default_path)\n",
    "from usepe.city_model.path_planning import trajectoryCalculation\n",
    "from usepe.city_model.scenario_definition import createFlightPlan\n",
    "from usepe.city_model.multi_di_graph_3D import MultiDiGrpah3D\n",
    "from usepe.city_model.utils import read_my_graphml, layersDict\n",
    "from usepe.city_model.city_graph import cityGraph"
   ]
  },
  {
   "cell_type": "markdown",
   "id": "5fe1306f",
   "metadata": {},
   "source": [
    "Configuration file¶\n",
    "\n",
    "We create a config file with the following fields:\n",
    "\n",
    "[City]\n",
    "\n",
    "mode = rectangle\n",
    "\n",
    "#hannover_lat = 52.376\n",
    "\n",
    "#hannover_lon = 9.76\n",
    "\n",
    "#zone_size = 1000\n",
    "\n",
    "hannover_lat_min = 52.297839999994714\n",
    "\n",
    "hannover_lat_max = 52.438260000005286\n",
    "\n",
    "hannover_lon_min = 9.643080000001035\n",
    "\n",
    "hannover_lon_max = 9.844349999998968\n",
    "\n",
    "import = True\n",
    "\n",
    "imported_graph_path = ./data/exercise_1_reference.graphml\n",
    "\n",
    "[Layers]\n",
    "number_of_layers = 9\n",
    "\n",
    "layer_width = 25\n",
    "\n",
    "[BuildingData]\n",
    "\n",
    "lat_min = 52.297839999994714\n",
    "\n",
    "lat_max = 52.438260000005286\n",
    "\n",
    "lon_min = 9.643080000001035\n",
    "\n",
    "lon_max = 9.844349999998968\n",
    "\n",
    "divisions = 20\n",
    "\n",
    "directory_hannover = C:\\workspace3\\bluesky_usepe_git\\usepe\\city_model\\data\\CityGML_LoD1\n",
    "\n",
    "[Options]\n",
    "\n",
    "one_way = False\n",
    "\n",
    "simplify = True\n",
    "\n",
    "simplification_distance = 0\n",
    "\n",
    "simplification_error = 2\n",
    "\n",
    "[Outputs]\n",
    "\n",
    "graph_path = ./data/exercise_1_reference.graphml\n",
    "\n",
    "[Segments]\n",
    "\n",
    "import = True\n",
    "\n",
    "path = ./data/reference_segments.pkl\n",
    "\n",
    "[Corridors]\n",
    "\n",
    "corridors =\n",
    "\n",
    "altitude = 250\n",
    "\n",
    "delta_z = 25\n",
    "\n",
    "speed = 50\n",
    "\n",
    "acceleration_length = 50\n",
    "\n",
    "file_path_corridors = ./data/usepe-hannover-corridors.geojson\n",
    "\n",
    "[Strategic_Deconfliction]\n",
    "\n",
    "ratio = 3\n",
    "\n",
    "delay = 60"
   ]
  },
  {
   "cell_type": "code",
   "execution_count": null,
   "id": "3eaa4ab1",
   "metadata": {},
   "outputs": [],
   "source": [
    "# -------------- 1. CONFIGURATION FILE -----------------\n",
    "\"\"\"\n",
    "This section reads the configuration file.\n",
    "Change the config_path to read the desired file\n",
    "\"\"\"\n",
    "# CONFIG\n",
    "config_path = default_path2 + r\"\\settings_exercise_1_reference.cfg\"\n",
    "config = configparser.ConfigParser()\n",
    "config.read( config_path )"
   ]
  },
  {
   "cell_type": "markdown",
   "id": "62160007",
   "metadata": {},
   "source": [
    "# Import the graph"
   ]
  },
  {
   "cell_type": "code",
   "execution_count": null,
   "id": "6ab3d39d",
   "metadata": {},
   "outputs": [],
   "source": [
    "# -------------- 2. CITY GRAPH -------------------------\n",
    "\"\"\"\n",
    "This section creates a city graph or loads the graph defined with the city section of the\n",
    "configuration file.\n",
    "\"\"\"\n",
    "# City\n",
    "os.chdir(default_path2)\n",
    "if config['City'].getboolean( 'import' ):\n",
    "    filepath = config['City']['imported_graph_path']\n",
    "    G = read_my_graphml( filepath )\n",
    "    G = MultiDiGrpah3D( G )\n",
    "    # fig, ax = ox.plot_graph( G )\n",
    "else:\n",
    "    print('Check the path to the graph file')\n",
    "    G = cityGraph( config )"
   ]
  },
  {
   "cell_type": "markdown",
   "id": "debd1e6f",
   "metadata": {},
   "source": [
    "# Flight plan creation function"
   ]
  },
  {
   "cell_type": "code",
   "execution_count": null,
   "id": "2081c504",
   "metadata": {},
   "outputs": [],
   "source": [
    "def createFlightPlan(path_csv, G, config):\n",
    "    '''\n",
    "    This function reads the data stored in a csv file and creates the flight plans accordingly\n",
    "    '''\n",
    "    \n",
    "    #Open csv\n",
    "    data_frame = pd.read_csv(path_csv)\n",
    "    \n",
    "    # Create the path where the scenarios are stored\n",
    "    scenario_general_path_base = path_csv[:-4]\n",
    "    \n",
    "    # General scenario that calls all drone scenarios\n",
    "    scenario_general_path = scenario_general_path_base + '\\\\' + 'scenario_background_traffic.scn'\n",
    "    if not os.path.exists( os.path.dirname( scenario_general_path ) ):\n",
    "        os.makedirs( os.path.dirname( scenario_general_path ) )\n",
    "    scenario_general_file = open( scenario_general_path, 'w' )\n",
    "    \n",
    "    # basename for the drones\n",
    "    base_name = 'U'\n",
    "    \n",
    "    for n in range(data_frame.shape[0]):\n",
    "        \n",
    "        orig = data_frame['origin'][n]\n",
    "        dest = data_frame['destination'][n]\n",
    "    \n",
    "        name = base_name + str( n+1 )  # drone name\n",
    "        travel_time, route = trajectoryCalculation( G, orig, dest )\n",
    "\n",
    "        #print( 'The travel time of the route is {0}'.format( travel_time ) )\n",
    "        #print( 'The route is {0}'.format( route ) )\n",
    "\n",
    "        # Path Planning\n",
    "        ac = {'id': name, \n",
    "              'type': data_frame['drone'][n], \n",
    "              'accel': 3.5,  # TODO: change with the values of the specific model\n",
    "              'v_max': 18,  # TODO: change with the values of the specific model\n",
    "              'vs_max': 5 }  # TODO: change with the values of the specific model\n",
    "        departure_time = data_frame['departure'][n]\n",
    "\n",
    "        scenario_path = scenario_general_path_base + '\\\\' + 'scenario_background_traffic_drone' + str( n ) + '.scn'\n",
    "\n",
    "        scenario_file = open( scenario_path, 'w' )\n",
    "        \n",
    "        layers_dict = layersDict( config )\n",
    "        createFlightPlan( route, ac, departure_time, G, layers_dict, scenario_file )\n",
    "        scenario_file.close()\n",
    "\n",
    "        scenario_general_file.write( '00:00:00.00 > PCALL ' + scenario_path + ' REL' + '\\n' )\n",
    "    scenario_general_file.close()\n",
    "    print('Output scenario stored in the following directory {0}'.format(scenario_general_path_base))"
   ]
  },
  {
   "cell_type": "markdown",
   "id": "f3a6d7dd",
   "metadata": {},
   "source": [
    "# Determine the path to the csv and create the flight plans"
   ]
  },
  {
   "cell_type": "code",
   "execution_count": null,
   "id": "250fdd0a",
   "metadata": {},
   "outputs": [],
   "source": [
    "path_csv = \"C:/workspace3/scenarios-exercise1/scenario/USEPE/exercise_1/data/background_traffic_0-0964_2384_7200.csv\""
   ]
  },
  {
   "cell_type": "code",
   "execution_count": null,
   "id": "ce9185bc",
   "metadata": {},
   "outputs": [],
   "source": [
    "createFlightPlan(path_csv, G, config)"
   ]
  }
 ],
 "metadata": {
  "kernelspec": {
   "display_name": "Python 3 (ipykernel)",
   "language": "python",
   "name": "python3"
  },
  "language_info": {
   "codemirror_mode": {
    "name": "ipython",
    "version": 3
   },
   "file_extension": ".py",
   "mimetype": "text/x-python",
   "name": "python",
   "nbconvert_exporter": "python",
   "pygments_lexer": "ipython3",
   "version": "3.8.1"
  }
 },
 "nbformat": 4,
 "nbformat_minor": 5
}
