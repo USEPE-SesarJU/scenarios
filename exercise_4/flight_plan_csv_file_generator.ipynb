{
 "cells": [
  {
   "cell_type": "markdown",
   "id": "f4ca16d4",
   "metadata": {},
   "source": [
    "# This notebook generates the data defining the case study"
   ]
  },
  {
   "cell_type": "markdown",
   "id": "dabb04b2",
   "metadata": {},
   "source": [
    "A .csv file is created containing:\n",
    " - Origin (latitude; longitude; altitude)\n",
    " - Destination (latitude; longitude; altitude)\n",
    " - Time of departure (formatted; only in seconds)\n",
    " - Drone model\n",
    " - Purpose\n",
    " - Time of planning\n",
    "\n",
    "For each drone forming the background traffic."
   ]
  },
  {
   "cell_type": "code",
   "execution_count": null,
   "id": "c51ab0ef",
   "metadata": {},
   "outputs": [],
   "source": [
    "from pathlib import Path\n",
    "\n",
    "\"\"\"\n",
    "We define a default path where the modules developed in USEPE are stored\n",
    "\"\"\"\n",
    "\n",
    "bluesky_path = Path(Path.home(), 'ws', 'bluesky')\n",
    "\n",
    "\"\"\"\n",
    "We define a second default path where the scenarios are stored\n",
    "\"\"\"\n",
    "\n",
    "scenarios_path = Path(Path.home(), 'ws', 'scenarios', 'exercise_4')"
   ]
  },
  {
   "cell_type": "code",
   "execution_count": null,
   "id": "87b2544e",
   "metadata": {},
   "outputs": [],
   "source": [
    "import os\n",
    "import sys\n",
    "import configparser\n",
    "import pickle\n",
    "import osmnx as ox\n",
    "import random\n",
    "import pandas as pd\n",
    "import datetime\n",
    "\n",
    "os.chdir(bluesky_path)\n",
    "from usepe.city_model.utils import read_my_graphml, layersDict\n",
    "from usepe.city_model.multi_di_graph_3D import MultiDiGrpah3D\n",
    "from usepe.city_model.city_graph import cityGraph\n",
    "from usepe.city_model.scenario_definition import createSurveillanceCSV, createATMcsv, createBackgroundTrafficCSV, createScenarioCSV\n"
   ]
  },
  {
   "cell_type": "markdown",
   "id": "d1b5c21b",
   "metadata": {},
   "source": [
    "[City]\n",
    "\n",
    "mode = rectangle\n",
    "\n",
    "hannover_lat = \n",
    "\n",
    "hannover_lon = \n",
    "\n",
    "zone_size = 1000 \n",
    "\n",
    "hannover_lat_min = 52.373136\n",
    "\n",
    "hannover_lat_max = 52.427466\n",
    "\n",
    "hannover_lon_min = 9.771070\n",
    "\n",
    "hannover_lon_max = 9.859913\n",
    "\n",
    "import = True\n",
    "\n",
    "imported_graph_path = data/exe_corridor_focus_ref.graphml\n",
    "\n",
    "\n",
    "[Layers]\n",
    "\n",
    "number_of_layers = 9\n",
    "\n",
    "layer_width = 25\n",
    "\n",
    "\n",
    "[Corridors]\n",
    "\n",
    "corridors = \n",
    "\n",
    "altitude = 250\n",
    "\n",
    "delta_z = 25\n",
    "\n",
    "speed = 40\n",
    "\n",
    "acceleration_length = 50\n",
    "\n",
    "file_path_corridors = data/usepe-hannover-corridors.geojson\n",
    "\n",
    "\n",
    "[Segments]\n",
    "\n",
    "import = True\n",
    "\n",
    "imported_segments_file_path = data/Hannover_initial_segments_ref.json\n",
    "\n",
    "\n",
    "[BuildingData]\n",
    "\n",
    "lat_min = 52.373136\n",
    "\n",
    "lat_max = 52.427466\n",
    "\n",
    "lon_min = 9.771070\n",
    "\n",
    "lon_max = 9.859913\n",
    "\n",
    "divisions = 20\n",
    "\n",
    "directory_hannover = /home/ror/ws/bluesky/usepe/city_model/data/hannover_building_data\n",
    "\n",
    "\n",
    "[Options]\n",
    "\n",
    "one_way = False\n",
    "\n",
    "simplify = True\n",
    "\n",
    "simplification_distance = 0\n",
    "\n",
    "simplification_error = 2\n",
    "\n",
    "\n",
    "[Outputs]\n",
    "\n",
    "graph_path = data/exe_corridor_focus_ref.graphml\n",
    "\n",
    "\n",
    "[Strategic_Deconfliction]\n",
    "\n",
    "ratio = 3\n",
    "\n",
    "delay = 60\n"
   ]
  },
  {
   "cell_type": "code",
   "execution_count": null,
   "id": "04c88a36",
   "metadata": {},
   "outputs": [],
   "source": [
    " # -------------- 1. CONFIGURATION FILE -----------------\n",
    "\"\"\"\n",
    "This section reads the configuration file.\n",
    "Change the config_path to read the desired file\n",
    "\"\"\"\n",
    "# CONFIG\n",
    "config_path = Path(scenarios_path, 'settings_exe_4_ref.cfg')\n",
    "config = configparser.ConfigParser()\n",
    "config.read(config_path)"
   ]
  },
  {
   "cell_type": "code",
   "execution_count": null,
   "id": "5378b15f",
   "metadata": {},
   "outputs": [],
   "source": [
    "# -------------- 2. CITY GRAPH -------------------------\n",
    "\"\"\"\n",
    "This section creates a city graph or loads the graph defined in the 'City' section of the\n",
    "configuration file.\n",
    "\"\"\"\n",
    "# City\n",
    "os.chdir(scenarios_path)\n",
    "if config['City'].getboolean('import'):\n",
    "    filepath = config['City']['imported_graph_path']\n",
    "    G = read_my_graphml(filepath)\n",
    "    G = MultiDiGrpah3D(G)\n",
    "else:\n",
    "    print('Check the path to the graph file')\n",
    "    G = cityGraph(config)"
   ]
  },
  {
   "cell_type": "code",
   "execution_count": null,
   "id": "ce354fca",
   "metadata": {},
   "outputs": [],
   "source": [
    "# -------------- 3. SEGMENTS ----------------------------\n",
    "\"\"\"\n",
    "This section creates an airspace segmentation or loads the segmentation defined in the 'Segments'\n",
    "section of the configuration file.\n",
    "Comment it to neglect the segmentation\n",
    "\"\"\"\n",
    "os.chdir(scenarios_path)\n",
    "if config['Segments'].getboolean('import'):\n",
    "    segments = pd.read_json(config['Segments']['imported_segments_file_path'], orient=\"records\", lines=True)\n",
    "else:\n",
    "    segments = None"
   ]
  },
  {
   "cell_type": "markdown",
   "id": "2daafd8e",
   "metadata": {},
   "source": [
    "# Data for the experiments\n",
    "\n",
    "The densities to be tested in the experiments are\n",
    " - Medium: 0.964 simultaneous flights / km^2\n",
    " \n",
    "The average flight duration calculated is: 283 s\n",
    "\n",
    "The simulation time considered is: 30 min (1800 s)\n"
   ]
  },
  {
   "cell_type": "code",
   "execution_count": null,
   "id": "8b6cc1a7",
   "metadata": {},
   "outputs": [],
   "source": [
    "# General\n",
    "simulation_time = 1800"
   ]
  },
  {
   "cell_type": "markdown",
   "id": "9b19cc30",
   "metadata": {},
   "source": [
    "# Background Traffic"
   ]
  },
  {
   "cell_type": "code",
   "execution_count": null,
   "id": "1480e189",
   "metadata": {},
   "outputs": [],
   "source": [
    "# Background traffic\n",
    "density = {'Low': 0.0964, 'Medium': 0.964, 'High': 9.64}\n",
    "\n",
    "background_traffic = {'density': density['Medium'],\n",
    "                      'avg_flight_duration': 283,\n",
    "                      'simulation_time': simulation_time,\n",
    "                      'G': G,\n",
    "                      'segments': segments,\n",
    "                      'config': config,\n",
    "                      'default_path': bluesky_path}\n"
   ]
  },
  {
   "cell_type": "markdown",
   "metadata": {},
   "source": [
    "# Combined flight plans"
   ]
  },
  {
   "cell_type": "code",
   "execution_count": null,
   "metadata": {},
   "outputs": [],
   "source": [
    "file_name = 'EXE-4-Medium'\n",
    "\n",
    "nPlans = 10\n",
    "\n",
    "createScenarioCSV(file_name, nPlans, background_traffic=background_traffic)"
   ]
  }
 ],
 "metadata": {
  "interpreter": {
   "hash": "3c9f007f5e48126e6fd130d6d5cd95e66779694aab07600a411721b548ff687a"
  },
  "kernelspec": {
   "display_name": "Python 3.8.10 64-bit ('bluesky-osm': conda)",
   "name": "python3"
  },
  "language_info": {
   "codemirror_mode": {
    "name": "ipython",
    "version": 3
   },
   "file_extension": ".py",
   "mimetype": "text/x-python",
   "name": "python",
   "nbconvert_exporter": "python",
   "pygments_lexer": "ipython3",
   "version": "3.8.10"
  },
  "vscode": {
   "interpreter": {
    "hash": "04a733fa9f34fba1723c335d91062d3027a8760ff484d6fbedb9347d1ccc30ae"
   }
  }
 },
 "nbformat": 4,
 "nbformat_minor": 5
}
