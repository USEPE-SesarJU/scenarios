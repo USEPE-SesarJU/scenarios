{
 "cells": [
  {
   "cell_type": "markdown",
   "metadata": {},
   "source": [
    "# Gather Drones\n",
    "\n",
    "This prints out a list of all drone types used in the scenarios together with the performance data that is available in `BlueSky`.\n",
    "\n",
    "First, lets import everything we need:"
   ]
  },
  {
   "cell_type": "code",
   "execution_count": 1,
   "metadata": {},
   "outputs": [],
   "source": [
    "import os\n",
    "import glob\n",
    "import urllib\n",
    "import json\n",
    "\n",
    "import pandas as pd\n",
    "\n",
    "from IPython.display import HTML"
   ]
  },
  {
   "cell_type": "markdown",
   "metadata": {},
   "source": [
    "## Scan folders\n",
    "\n",
    "Then we define the folder structure and scan these for `.scn` files that contain the operator used to create aircrafts in `BlueSky`:"
   ]
  },
  {
   "cell_type": "code",
   "execution_count": 2,
   "metadata": {},
   "outputs": [
    {
     "name": "stdout",
     "output_type": "stream",
     "text": [
      "Found 6 aircraft definitions at \"..\\..\\scenario\\**\\*.scn\"\n"
     ]
    }
   ],
   "source": [
    "SEARCH_OPERATOR = 'CRE'\n",
    "\n",
    "scenario_files = os.path.join('..', '..', 'scenario', '**', '*.scn')\n",
    "lines = []\n",
    "for scenario_file in glob.glob(scenario_files, recursive=True):\n",
    "    with open(scenario_file) as f:\n",
    "        lines.extend([line for line in f.readlines() if SEARCH_OPERATOR in line])\n",
    "print(f'Found {len(lines)} aircraft definitions at \"{scenario_files}\"')"
   ]
  },
  {
   "cell_type": "markdown",
   "metadata": {},
   "source": [
    "## Extract aircrafts\n",
    "\n",
    "Each of these lines is then split according to the command definition to extract the names and types of aircraft used:"
   ]
  },
  {
   "cell_type": "code",
   "execution_count": 3,
   "metadata": {},
   "outputs": [
    {
     "name": "stdout",
     "output_type": "stream",
     "text": [
      "Found 2 unique aircraft types in all exercises: M600, EC35\n"
     ]
    }
   ],
   "source": [
    "aircraft_types = set()\n",
    "for line in lines:\n",
    "    type = line.strip().split()[3]\n",
    "    aircraft_types.add(type)\n",
    "print(f'Found {len(aircraft_types)} unique aircraft types in all exercises: {\", \".join(aircraft_types)}')"
   ]
  },
  {
   "cell_type": "markdown",
   "metadata": {},
   "source": [
    "## Attach Performance data\n",
    "\n",
    "All aircraft that were found are then checked against the current version of the `BlueSky` performance table, filtering it down to the relevant types. The object is then converted into a `DataFrame`, mostly to be able to view it more easily later on:"
   ]
  },
  {
   "cell_type": "code",
   "execution_count": 4,
   "metadata": {},
   "outputs": [
    {
     "name": "stdout",
     "output_type": "stream",
     "text": [
      "All aircrafts were found in the performance tables.\n"
     ]
    }
   ],
   "source": [
    "JSON_URL = 'https://raw.githubusercontent.com/USEPE-SesarJU/bluesky/master/data/performance/OpenAP/rotor/aircraft.json'\n",
    "with urllib.request.urlopen(JSON_URL) as url:\n",
    "    aircraft_data = json.loads(url.read().decode())\n",
    "\n",
    "aircraft_data = {key: aircraft_data[key] for key in aircraft_types}\n",
    "df = pd.DataFrame.from_dict(aircraft_data, orient='index').drop(['n_engines', 'engine_type'], axis=1)\n",
    "\n",
    "aircraft_found = set(aircraft_data.keys())\n",
    "if aircraft_types == aircraft_found:\n",
    "    print('All aircrafts were found in the performance tables.')\n",
    "else:\n",
    "    print(f'No performance data for {\", \".join(aircraft_types.difference(aircraft_found))}.')"
   ]
  },
  {
   "cell_type": "markdown",
   "metadata": {},
   "source": [
    "## Output\n",
    "\n",
    "Finally, the `DataFrame` is converted to an `HTML` output and the names are enhanced with a link (hopefully) leading to more data about the aircraft:"
   ]
  },
  {
   "cell_type": "code",
   "execution_count": 5,
   "metadata": {},
   "outputs": [
    {
     "data": {
      "text/html": [
       "<table border=\"1\" class=\"dataframe\">\n",
       "  <thead>\n",
       "    <tr style=\"text-align: right;\">\n",
       "      <th></th>\n",
       "      <th>name</th>\n",
       "      <th>mtow</th>\n",
       "      <th>oew</th>\n",
       "      <th>mfc</th>\n",
       "      <th>engines</th>\n",
       "      <th>envelop</th>\n",
       "    </tr>\n",
       "  </thead>\n",
       "  <tbody>\n",
       "    <tr>\n",
       "      <th>M600</th>\n",
       "      <td><a href=\"https://duckduckgo.com/?q=!ducky+DJI+Matrice+600\">DJI Matrice 600</a></td>\n",
       "      <td>15.1</td>\n",
       "      <td>9.1</td>\n",
       "      <td>0</td>\n",
       "      <td>[[Motor-6010-1, 0.482], [Motor-6010-2, 0.482], [Motor-6010-3, 0.482], [Motor-6010-4, 0.482], [Motor-6010-5, 0.482], [Motor-6010-6, 0.482]]</td>\n",
       "      <td>{'v_min': -18, 'v_max': 18, 'vs_min': -5, 'vs_max': 5, 'h_max': 2500, 'd_range_max': 10}</td>\n",
       "    </tr>\n",
       "    <tr>\n",
       "      <th>EC35</th>\n",
       "      <td><a href=\"https://duckduckgo.com/?q=!ducky+Eurocopter+EC135\">Eurocopter EC135</a></td>\n",
       "      <td>2835.0</td>\n",
       "      <td>1490.0</td>\n",
       "      <td>0</td>\n",
       "      <td>[[PW206B, 463], [Arrius-2B2, 472]]</td>\n",
       "      <td>{'v_min': -20, 'v_max': 71.95, 'vs_min': -7.62, 'vs_max': 7.62, 'h_max': 6096, 'd_range_max': 665}</td>\n",
       "    </tr>\n",
       "  </tbody>\n",
       "</table>"
      ],
      "text/plain": [
       "<IPython.core.display.HTML object>"
      ]
     },
     "execution_count": 5,
     "metadata": {},
     "output_type": "execute_result"
    }
   ],
   "source": [
    "SEARCH_URL = 'https://duckduckgo.com/?q=!ducky'\n",
    "df['name'] = df['name'].apply(lambda n: f'<a href=\"{SEARCH_URL}+{urllib.parse.quote_plus(n)}\">{n}</a>')\n",
    "HTML(df.to_html(escape=False))"
   ]
  }
 ],
 "metadata": {
  "interpreter": {
   "hash": "5a0fdc5e57fb3a7f1e58f5c16ce7cc3001ef520e4ff0078f28a3354b4b86085f"
  },
  "kernelspec": {
   "display_name": "Python 3.7.2 64-bit",
   "language": "python",
   "name": "python3"
  },
  "language_info": {
   "codemirror_mode": {
    "name": "ipython",
    "version": 3
   },
   "file_extension": ".py",
   "mimetype": "text/x-python",
   "name": "python",
   "nbconvert_exporter": "python",
   "pygments_lexer": "ipython3",
   "version": "3.7.2"
  },
  "orig_nbformat": 4
 },
 "nbformat": 4,
 "nbformat_minor": 2
}
