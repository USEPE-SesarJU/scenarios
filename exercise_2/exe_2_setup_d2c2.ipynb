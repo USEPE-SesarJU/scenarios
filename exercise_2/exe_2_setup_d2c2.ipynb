{
 "cells": [
  {
   "cell_type": "markdown",
   "id": "24598d73",
   "metadata": {},
   "source": [
    "# Create a setup scenario for EXE-USEPE-003 - Reference Scenario. This configuration includes conflict detection method, resolution method, protection zone size,..."
   ]
  },
  {
   "cell_type": "code",
   "execution_count": 1,
   "id": "2d1003c6",
   "metadata": {},
   "outputs": [],
   "source": [
    "\"\"\"\n",
    "Configuration to be introduced by the user\n",
    "\"\"\"\n",
    "\n",
    "scenario_path = r'./scenario/usepe_exe_3_d2c2.scn'\n",
    "pz_radius = 3.75 # < pz_radius in meters\n",
    "pz_height = 10 # < pz_height in meters\n",
    "dtlook = 10 # lookahead time in seconds\n",
    "rmethh = 'SPD'\n"
   ]
  },
  {
   "cell_type": "code",
   "execution_count": 2,
   "id": "2031d98c",
   "metadata": {},
   "outputs": [],
   "source": [
    "m2nm = 0.000539957\n",
    "m2ft = 3.28084\n",
    "scenario_file = open(scenario_path, 'w')\n",
    "new_lines = []\n",
    "\n",
    "# Conflict detection\n",
    "new_lines.append(f'00:00:00.00> PLUGIN LOAD USEPE')\n",
    "new_lines.append(f'00:00:00.00> USEPE CONFIG /home/ror/ws/scenarios/exercise_3/settings_exe_3_d2c2.cfg')\n",
    "new_lines.append(f'00:00:00.00> USEPE ON')\n",
    "new_lines.append(f'00:00:00.00> ASAS ON')\n",
    "new_lines.append(f'00:00:00.00> CDMETHOD StateBased')\n",
    "new_lines.append(f'00:00:00.00> ZONER {pz_radius*m2nm}')\n",
    "new_lines.append(f'00:00:00.00> ZONEDH {pz_height*m2ft}')\n",
    "new_lines.append(f'00:00:00.00> DTLOOK {dtlook}')\n",
    "\n",
    "# Conflict resolution\n",
    "new_lines.append(f'00:00:00.00> RESO MVP')\n",
    "new_lines.append(f'00:00:00.00> RMETHH {rmethh}')\n",
    "\n",
    "# Make sure all speed values (even those <5) are treated as knots and not mach\n",
    "new_lines.append(f'00:00:00.00> CASMACHTHR 0')\n",
    "\n",
    "# logger USEPE\n",
    "new_lines.append('00:00:00.00> PLUGIN LOAD USEPELOGGER')\n",
    "new_lines.append('00:00:00.00> USEPELOGGER ON')\n",
    "\n",
    "# logger mylog\n",
    "header =  'STATE LOG -' + \\\n",
    "    ' Positions and velocities of all drones -' + \\\n",
    "    ' Simulation Time [s], identifier, aircraft type, latitude, longitude, altitude, heading, track angle, true airspeed,' + \\\n",
    "    ' ground speed, ground speed north, ground speed east, vertical speed, longitudinal acceleration'\n",
    "new_lines.append(f'00:00:00.00> CRELOG STATELOG 1 {header}')\n",
    "new_lines.append(f'00:00:00.00> STATELOG ADD id, type, lat, lon, alt, hdg, trk, tas, gs, gsnorth, gseast, vs, ax')\n",
    "new_lines.append(f'00:00:00.00> STATELOG ON')\n",
    "\n",
    "# map\n",
    "new_lines.append(f'00:00:00.00> VIS MAP TILEDMAP')\n",
    "new_lines.append(f'00:00:00.00> PAN 52.43773 9.69229')\n",
    "new_lines.append(f'00:00:00.00> ZOOM 16')\n",
    "\n",
    "for i in range(len(new_lines)):\n",
    "    scenario_file.write(new_lines[i] + '\\n')\n",
    "\n",
    "scenario_file.close()\n"
   ]
  }
 ],
 "metadata": {
  "interpreter": {
   "hash": "3c9f007f5e48126e6fd130d6d5cd95e66779694aab07600a411721b548ff687a"
  },
  "kernelspec": {
   "display_name": "Python 3.8.10 64-bit ('bluesky-osm': conda)",
   "name": "python3"
  },
  "language_info": {
   "codemirror_mode": {
    "name": "ipython",
    "version": 3
   },
   "file_extension": ".py",
   "mimetype": "text/x-python",
   "name": "python",
   "nbconvert_exporter": "python",
   "pygments_lexer": "ipython3",
   "version": "3.8.10"
  }
 },
 "nbformat": 4,
 "nbformat_minor": 5
}
