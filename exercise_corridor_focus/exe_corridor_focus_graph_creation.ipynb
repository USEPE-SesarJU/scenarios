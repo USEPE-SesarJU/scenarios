{
 "cells": [
  {
   "cell_type": "markdown",
   "id": "4862fe68",
   "metadata": {},
   "source": [
    "# This notebook will generate the graph representing the urban environment considered in further simulations with a focus on high speed corridors"
   ]
  },
  {
   "cell_type": "code",
   "execution_count": null,
   "id": "b2c77aac",
   "metadata": {},
   "outputs": [],
   "source": [
    "from pathlib import Path\n",
    "\n",
    "\"\"\"\n",
    "We define a default path where the modules developed in USEPE are stored\n",
    "\"\"\"\n",
    "\n",
    "bluesky_path = Path(Path.home(), 'ws', 'bluesky')\n",
    "\n",
    "\"\"\"\n",
    "We define a default path where the scenarios are stored\n",
    "\"\"\"\n",
    "\n",
    "scenarios_path = Path(Path.home(), 'ws', 'scenarios', 'exercise_corridor_focus')\n"
   ]
  },
  {
   "cell_type": "code",
   "execution_count": null,
   "id": "20f873fb",
   "metadata": {},
   "outputs": [],
   "source": [
    "import os\n",
    "import configparser\n",
    "import pickle\n",
    "import osmnx as ox\n",
    "import pandas as pd\n",
    "\n",
    "os.chdir(bluesky_path)\n",
    "from usepe.city_model.city_graph import cityGraph\n",
    "from usepe.city_model.corridors_implementation import corridorLoad\n",
    "from usepe.city_model.dynamic_segments import dynamicSegments\n",
    "from usepe.city_model.multi_di_graph_3D import MultiDiGrpah3D\n",
    "from usepe.city_model.utils import read_my_graphml"
   ]
  },
  {
   "cell_type": "markdown",
   "id": "1e661d61",
   "metadata": {},
   "source": [
    "[City]\n",
    "\n",
    "mode = rectangle\n",
    "\n",
    "hannover_lat = \n",
    "\n",
    "hannover_lon = \n",
    "\n",
    "zone_size = 1000 \n",
    "\n",
    "hannover_lat_min = 52.373136\n",
    "\n",
    "hannover_lat_max = 52.427466\n",
    "\n",
    "hannover_lon_min = 9.771070\n",
    "\n",
    "hannover_lon_max = 9.859913\n",
    "\n",
    "import = False\n",
    "\n",
    "imported_graph_path = data/exe_corridor_focus_ref.graphml\n",
    "\n",
    "\n",
    "[Layers]\n",
    "\n",
    "number_of_layers = 9\n",
    "\n",
    "layer_width = 25\n",
    "\n",
    "\n",
    "[Corridors]\n",
    "\n",
    "corridors = \n",
    "\n",
    "altitude = 250\n",
    "\n",
    "delta_z = 25\n",
    "\n",
    "speed = 40\n",
    "\n",
    "acceleration_length = 50\n",
    "\n",
    "file_path_corridors = data/usepe-hannover-corridors.geojson\n",
    "\n",
    "\n",
    "[Segments]\n",
    "\n",
    "import = True\n",
    "\n",
    "imported_segments_file_path = data/Hannover_initial_segments_ref.json\n",
    "\n",
    "\n",
    "[BuildingData]\n",
    "\n",
    "lat_min = 52.373136\n",
    "\n",
    "lat_max = 52.427466\n",
    "\n",
    "lon_min = 9.771070\n",
    "\n",
    "lon_max = 9.859913\n",
    "\n",
    "divisions = 20\n",
    "\n",
    "directory_hannover = /home/ror/ws/bluesky/usepe/city_model/data/hannover_building_data\n",
    "\n",
    "\n",
    "[Options]\n",
    "\n",
    "one_way = False\n",
    "\n",
    "simplify = True\n",
    "\n",
    "simplification_distance = 0\n",
    "\n",
    "simplification_error = 2\n",
    "\n",
    "\n",
    "[Outputs]\n",
    "\n",
    "graph_path = data/exe_corridor_focus_ref.graphml\n",
    "\n",
    "\n",
    "[Strategic_Deconfliction]\n",
    "\n",
    "ratio = 3\n",
    "\n",
    "delay = 60\n"
   ]
  },
  {
   "cell_type": "code",
   "execution_count": null,
   "id": "748b2154",
   "metadata": {},
   "outputs": [],
   "source": [
    "# -------------- 1. CONFIGURATION FILE -----------------\n",
    "\"\"\"\n",
    "This section reads the configuration file.\n",
    "Change the config_path to read the desired file\n",
    "\"\"\"\n",
    "# CONFIG\n",
    "config_path = Path(scenarios_path, 'settings_exe_corridor_focus_d2c2.cfg')\n",
    "config = configparser.ConfigParser()\n",
    "config.read(config_path)"
   ]
  },
  {
   "cell_type": "markdown",
   "id": "d115250a",
   "metadata": {},
   "source": [
    "# City Graph"
   ]
  },
  {
   "cell_type": "code",
   "execution_count": null,
   "id": "3edd83a0",
   "metadata": {},
   "outputs": [],
   "source": [
    "# -------------- 2. CITY GRAPH -------------------------\n",
    "\"\"\"\n",
    "This section creates a city graph or loads the graph defined in the 'City' section of the\n",
    "configuration file.\n",
    "\"\"\"\n",
    "# City\n",
    "os.chdir(scenarios_path)\n",
    "if config['City'].getboolean( 'import' ):\n",
    "    filepath = config['City']['imported_graph_path']\n",
    "    G = read_my_graphml( filepath )\n",
    "    G = MultiDiGrpah3D( G )\n",
    "    # fig, ax = ox.plot_graph( G )\n",
    "else:\n",
    "    G = cityGraph( config )\n"
   ]
  },
  {
   "cell_type": "markdown",
   "id": "99caf05d",
   "metadata": {},
   "source": [
    "# Segments"
   ]
  },
  {
   "cell_type": "code",
   "execution_count": null,
   "id": "446f08db",
   "metadata": {},
   "outputs": [],
   "source": [
    "# -------------- 3. SEGMENTS ----------------------------\n",
    "\"\"\"\n",
    "This section creates an airspace segmentation or loads the segmentation defined in the 'Segments'\n",
    "section of the configuration file.\n",
    "Comment it to neglect the segmentation\n",
    "\"\"\"\n",
    "os.chdir(scenarios_path)\n",
    "if config['Segments'].getboolean( 'import' ):\n",
    "    segments = pd.read_json(config['Segments']['imported_segments_file_path'], orient=\"records\", lines=True )\n",
    "else:\n",
    "    segments = None"
   ]
  },
  {
   "cell_type": "markdown",
   "id": "77aea124",
   "metadata": {},
   "source": [
    "# Corridors"
   ]
  },
  {
   "cell_type": "code",
   "execution_count": null,
   "id": "34becff6",
   "metadata": {},
   "outputs": [],
   "source": [
    "# -------------- 4. CORRIDORS ---------------------------\n",
    "\"\"\"\n",
    "This section loads the corridors defined in the 'Corridors' section of the configuration file\n",
    "Comment it to neglect the creation of corridors\n",
    "\"\"\"\n",
    "G, segments = corridorLoad( G, segments, config )"
   ]
  },
  {
   "cell_type": "markdown",
   "id": "f486f79c",
   "metadata": {},
   "source": [
    "# Segment update"
   ]
  },
  {
   "cell_type": "code",
   "execution_count": null,
   "id": "e4b37cbe",
   "metadata": {},
   "outputs": [],
   "source": [
    "# ---------------- 5. Segment update --------------------\n",
    "\"\"\"\n",
    "Once we have loaded the segments and we created the corridors, we update the graph based on the parameters of the segments\n",
    "\"\"\"\n",
    "G, segments = dynamicSegments( G, config, segments, deleted_segments=None )"
   ]
  },
  {
   "cell_type": "markdown",
   "id": "dc747d21",
   "metadata": {},
   "source": [
    "# Saving graph"
   ]
  },
  {
   "cell_type": "code",
   "execution_count": null,
   "id": "282a0840",
   "metadata": {},
   "outputs": [],
   "source": [
    "os.chdir(scenarios_path)\n",
    "fig, ax = ox.plot_graph( G )\n",
    "filepath = config['Outputs']['graph_path']\n",
    "ox.save_graphml( G, filepath )"
   ]
  }
 ],
 "metadata": {
  "interpreter": {
   "hash": "3c9f007f5e48126e6fd130d6d5cd95e66779694aab07600a411721b548ff687a"
  },
  "kernelspec": {
   "display_name": "Python 3.8.10 64-bit ('bluesky-osm': conda)",
   "name": "python3"
  },
  "language_info": {
   "codemirror_mode": {
    "name": "ipython",
    "version": 3
   },
   "file_extension": ".py",
   "mimetype": "text/x-python",
   "name": "python",
   "nbconvert_exporter": "python",
   "pygments_lexer": "ipython3",
   "version": "3.8.10"
  },
  "vscode": {
   "interpreter": {
    "hash": "04a733fa9f34fba1723c335d91062d3027a8760ff484d6fbedb9347d1ccc30ae"
   }
  }
 },
 "nbformat": 4,
 "nbformat_minor": 5
}
