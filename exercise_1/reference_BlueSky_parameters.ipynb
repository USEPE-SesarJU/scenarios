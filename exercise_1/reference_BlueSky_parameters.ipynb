{
 "cells": [
  {
   "cell_type": "markdown",
   "id": "24598d73",
   "metadata": {},
   "source": [
    "# This notebook create a scenario with the BlueSky configuration for the reference use case. This configuration includes conflict detection method, resolution method, protection zone size,..."
   ]
  },
  {
   "cell_type": "code",
   "execution_count": 36,
   "id": "2d1003c6",
   "metadata": {},
   "outputs": [],
   "source": [
    "\"\"\"\n",
    "Configuration to be introduced by the user\n",
    "\"\"\"\n",
    "\n",
    "scenario_path = r'.\\scenario\\reference_bluesky_parameters.scn'\n",
    "pz_radius = 3.75 # < pz_radius in meters\n",
    "pz_height = 10 # < pz_height in meters\n",
    "dtlook = 10 # lookahead time in seconds\n",
    "rmethh = 'SPD'\n"
   ]
  },
  {
   "cell_type": "code",
   "execution_count": 40,
   "id": "2031d98c",
   "metadata": {},
   "outputs": [],
   "source": [
    "m2nm = 0.000539957\n",
    "m2ft = 3.28084\n",
    "scenario_file = open( scenario_path, 'w' )\n",
    "\n",
    "# Conflict detection\n",
    "new_line0 = '00:00:00.00 > ASAS ON'\n",
    "new_line1 = '00:00:00.00 > CDMETHOD StateBased'\n",
    "new_line2 = '00:00:00.00 > ZONER {}'.format(str(pz_radius*m2nm))\n",
    "new_line3 = '00:00:00.00 > ZONEDH {}'.format(str(pz_height*m2ft))\n",
    "new_line4 = '00:00:00.00 > DTLOOK {}'.format(str(dtlook))\n",
    "\n",
    "scenario_file.write( new_line0 + '\\n' + new_line1 + '\\n' + new_line2 + '\\n' + new_line3 + '\\n' + new_line4 + '\\n' )\n",
    "\n",
    "# Conflict resolution\n",
    "new_line0 = '00:00:00.00 > RESO MVP'\n",
    "new_line1 = '00:00:00.00 > RMETHH {}'.format(rmethh)\n",
    "\n",
    "scenario_file.write( new_line0 + '\\n' + new_line1 + '\\n' )\n",
    "\n",
    "# logger USEPE\n",
    "new_line0 = '00:00:00.00 > PLUGIN USEPELOGGER'\n",
    "new_line1 = '00:00:00.00 > USEPELOGGER ON'\n",
    "\n",
    "scenario_file.write( new_line0 + '\\n' + new_line1 + '\\n' )\n",
    "\n",
    "# logger mylog\n",
    "header =  'STATE LOG -' + \\\n",
    "    ' Positions and velocities of all drones -' + \\\n",
    "    ' Simulation Time [s], identifier, aircraft type, latitude, longitude, altitude, heading, track angle, true airspeed,' + \\\n",
    "    ' ground speed, ground speed north, ground speed east, vertical speed, longitudinal acceleration'\n",
    "new_line0 = '00:00:00.00 > CRELOG STATELOG 1 {}'.format(header)\n",
    "new_line1 = '00:00:00.00 > STATELOG ADD id, type, lat, lon, alt, hdg, trk, tas, gs, gsnorth, gseast, vs, ax'\n",
    "new_line2 = '00:00:00.00 > STATELOG ON'\n",
    "\n",
    "scenario_file.write( new_line0 + '\\n' + new_line1 + '\\n' + new_line2 + '\\n')\n",
    "\n",
    "# map\n",
    "new_line0 = '00:00:00.00 > VIS MAP TILEDMAP'\n",
    "new_line1 = '00:00:00.00 > PAN 52.3759 9.7320'\n",
    "new_line2 = '00:00:00.00 > ZOOM 25'\n",
    "\n",
    "scenario_file.write( new_line0 + '\\n' + new_line1 + '\\n' + new_line2 + '\\n')\n",
    "\n",
    "scenario_file.close()"
   ]
  },
  {
   "cell_type": "code",
   "execution_count": null,
   "id": "f35e27ff",
   "metadata": {},
   "outputs": [],
   "source": []
  }
 ],
 "metadata": {
  "kernelspec": {
   "display_name": "Python 3",
   "language": "python",
   "name": "python3"
  },
  "language_info": {
   "codemirror_mode": {
    "name": "ipython",
    "version": 3
   },
   "file_extension": ".py",
   "mimetype": "text/x-python",
   "name": "python",
   "nbconvert_exporter": "python",
   "pygments_lexer": "ipython3",
   "version": "3.8.1"
  }
 },
 "nbformat": 4,
 "nbformat_minor": 5
}
